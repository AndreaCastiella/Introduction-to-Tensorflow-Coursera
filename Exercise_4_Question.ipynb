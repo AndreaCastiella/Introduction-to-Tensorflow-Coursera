{
  "nbformat": 4,
  "nbformat_minor": 0,
  "metadata": {
    "colab": {
      "name": "Exercise 4-Question.ipynb",
      "provenance": [],
      "collapsed_sections": [],
      "toc_visible": true,
      "include_colab_link": true
    },
    "kernelspec": {
      "display_name": "Python 3",
      "name": "python3"
    }
  },
  "cells": [
    {
      "cell_type": "markdown",
      "metadata": {
        "id": "view-in-github",
        "colab_type": "text"
      },
      "source": [
        "<a href=\"https://colab.research.google.com/github/AndreaCastiella/Introduction-to-Tensorflow-Coursera/blob/main/Exercise_4_Question.ipynb\" target=\"_parent\"><img src=\"https://colab.research.google.com/assets/colab-badge.svg\" alt=\"Open In Colab\"/></a>"
      ]
    },
    {
      "cell_type": "markdown",
      "metadata": {
        "id": "UncprnB0ymAE"
      },
      "source": [
        "Below is code with a link to a happy or sad dataset which contains 80 images, 40 happy and 40 sad. \n",
        "Create a convolutional neural network that trains to 100% accuracy on these images,  which cancels training upon hitting training accuracy of >.999\n",
        "\n",
        "Hint -- it will work best with 3 convolutional layers."
      ]
    },
    {
      "cell_type": "code",
      "metadata": {
        "id": "7Vti6p3PxmpS",
        "colab": {
          "base_uri": "https://localhost:8080/"
        },
        "outputId": "fcc59aea-7749-4e9f-f625-25c9e6142061"
      },
      "source": [
        "import tensorflow as tf\n",
        "import os\n",
        "import zipfile\n",
        "\n",
        "\n",
        "DESIRED_ACCURACY = 0.999\n",
        "\n",
        "!wget --no-check-certificate \\\n",
        "    \"https://storage.googleapis.com/laurencemoroney-blog.appspot.com/happy-or-sad.zip\" \\\n",
        "    -O \"/tmp/happy-or-sad.zip\"\n",
        "\n",
        "zip_ref = zipfile.ZipFile(\"/tmp/happy-or-sad.zip\", 'r')\n",
        "zip_ref.extractall(\"/tmp/h-or-s\")\n",
        "zip_ref.close()\n",
        "\n",
        "# Please write your code only where you are indicated.\n",
        "# please do not remove # model fitting inline comments.\n",
        "\n",
        "DESIRED_ACCURACY = 0.999\n",
        "\n",
        "class myCallback(tf.keras.callbacks.Callback):\n",
        "      # Your Code\n",
        "    def on_epoch_end(self, epoch, logs={}):\n",
        "        if(logs.get('loss')<1-DESIRED_ACCURACY):\n",
        "            print(\"\\nReached 99.9% accuracy so cancelling training!\")\n",
        "            self.model.stop_training = True\n",
        "\n",
        "callbacks = myCallback()"
      ],
      "execution_count": 1,
      "outputs": [
        {
          "output_type": "stream",
          "text": [
            "--2021-02-23 18:41:12--  https://storage.googleapis.com/laurencemoroney-blog.appspot.com/happy-or-sad.zip\n",
            "Resolving storage.googleapis.com (storage.googleapis.com)... 64.233.189.128, 108.177.97.128, 108.177.125.128, ...\n",
            "Connecting to storage.googleapis.com (storage.googleapis.com)|64.233.189.128|:443... connected.\n",
            "HTTP request sent, awaiting response... 200 OK\n",
            "Length: 2670333 (2.5M) [application/zip]\n",
            "Saving to: ‘/tmp/happy-or-sad.zip’\n",
            "\n",
            "\r/tmp/happy-or-sad.z   0%[                    ]       0  --.-KB/s               \r/tmp/happy-or-sad.z 100%[===================>]   2.55M  --.-KB/s    in 0.02s   \n",
            "\n",
            "2021-02-23 18:41:13 (104 MB/s) - ‘/tmp/happy-or-sad.zip’ saved [2670333/2670333]\n",
            "\n"
          ],
          "name": "stdout"
        }
      ]
    },
    {
      "cell_type": "code",
      "metadata": {
        "id": "6DLGbXXI1j_V"
      },
      "source": [
        "# This Code Block should Define and Compile the Model. Please assume the images are 150 X 150 in your implementation.\n",
        "model = tf.keras.models.Sequential([\n",
        "    tf.keras.layers.Conv2D(16, (3,3), activation='relu', input_shape=(150, 150, 3)),\n",
        "    tf.keras.layers.MaxPooling2D(2,2),\n",
        "    tf.keras.layers.Conv2D(32, (3,3), activation='relu'),\n",
        "    tf.keras.layers.MaxPooling2D(2,2),\n",
        "    tf.keras.layers.Conv2D(64, (3,3), activation='relu'),\n",
        "    tf.keras.layers.MaxPooling2D(2,2),\n",
        "    tf.keras.layers.Flatten(),\n",
        "    tf.keras.layers.Dense(512, activation='relu'),\n",
        "    tf.keras.layers.Dense(1, activation='sigmoid')   \n",
        "])\n",
        "\n",
        "model.summary()\n",
        "\n",
        "from tensorflow.keras.optimizers import RMSprop\n",
        "model.compile(loss='binary_crossentropy', optimizer=RMSprop(lr=0.001), metrics=['acc'])"
      ],
      "execution_count": null,
      "outputs": []
    },
    {
      "cell_type": "code",
      "metadata": {
        "id": "4Ap9fUJE1vVu",
        "colab": {
          "base_uri": "https://localhost:8080/"
        },
        "outputId": "c0b96c77-ed0e-41f3-b135-57ab43ba7e2a"
      },
      "source": [
        "# This code block should create an instance of an ImageDataGenerator called train_datagen \n",
        "# And a train_generator by calling train_datagen.flow_from_directory\n",
        "from tensorflow.keras.preprocessing.image import ImageDataGenerator\n",
        "\n",
        "train_datagen = ImageDataGenerator(rescale=1/255)\n",
        "\n",
        "# Please use a target_size of 150 X 150.\n",
        "train_generator = train_datagen.flow_from_directory(\n",
        "    # Your Code Here\n",
        "    '/tmp/h-or-s',\n",
        "    target_size=(150,150),\n",
        "    batch_size=5,\n",
        "    class_mode='binary')\n",
        "# Expected output: 'Found 80 images belonging to 2 classes'"
      ],
      "execution_count": 3,
      "outputs": [
        {
          "output_type": "stream",
          "text": [
            "Found 80 images belonging to 2 classes.\n"
          ],
          "name": "stdout"
        }
      ]
    },
    {
      "cell_type": "code",
      "metadata": {
        "id": "48dLm13U1-Le",
        "colab": {
          "base_uri": "https://localhost:8080/"
        },
        "outputId": "1d393c09-3206-494a-a046-31bc21f7d835"
      },
      "source": [
        "# This code block should call model.fit_generator and train for\n",
        "# a number of epochs.\n",
        "# model fitting\n",
        "history = model.fit_generator(\n",
        "    # Your Code Here\n",
        "    train_generator,\n",
        "    steps_per_epoch=8,\n",
        "    epochs=30,\n",
        "    verbose=2\n",
        ")\n"
      ],
      "execution_count": 4,
      "outputs": [
        {
          "output_type": "stream",
          "text": [
            "/usr/local/lib/python3.7/dist-packages/tensorflow/python/keras/engine/training.py:1844: UserWarning: `Model.fit_generator` is deprecated and will be removed in a future version. Please use `Model.fit`, which supports generators.\n",
            "  warnings.warn('`Model.fit_generator` is deprecated and '\n"
          ],
          "name": "stderr"
        },
        {
          "output_type": "stream",
          "text": [
            "Epoch 1/30\n",
            "8/8 - 3s - loss: 2.1293 - acc: 0.5500\n",
            "Epoch 2/30\n",
            "8/8 - 2s - loss: 0.4728 - acc: 0.8250\n",
            "Epoch 3/30\n",
            "8/8 - 2s - loss: 0.5021 - acc: 0.7750\n",
            "Epoch 4/30\n",
            "8/8 - 2s - loss: 0.1864 - acc: 0.9750\n",
            "Epoch 5/30\n",
            "8/8 - 2s - loss: 0.0766 - acc: 0.9750\n",
            "Epoch 6/30\n",
            "8/8 - 2s - loss: 0.0509 - acc: 1.0000\n",
            "Epoch 7/30\n",
            "8/8 - 2s - loss: 0.1637 - acc: 0.9250\n",
            "Epoch 8/30\n",
            "8/8 - 2s - loss: 0.0168 - acc: 1.0000\n",
            "Epoch 9/30\n",
            "8/8 - 2s - loss: 0.0272 - acc: 1.0000\n",
            "Epoch 10/30\n",
            "8/8 - 2s - loss: 0.1154 - acc: 0.9500\n",
            "Epoch 11/30\n",
            "8/8 - 2s - loss: 0.1026 - acc: 0.9250\n",
            "Epoch 12/30\n",
            "8/8 - 2s - loss: 0.0036 - acc: 1.0000\n",
            "Epoch 13/30\n",
            "8/8 - 2s - loss: 0.0018 - acc: 1.0000\n",
            "Epoch 14/30\n",
            "8/8 - 2s - loss: 9.8784e-04 - acc: 1.0000\n",
            "Epoch 15/30\n",
            "8/8 - 2s - loss: 2.8180e-04 - acc: 1.0000\n",
            "Epoch 16/30\n",
            "8/8 - 2s - loss: 0.0017 - acc: 1.0000\n",
            "Epoch 17/30\n",
            "8/8 - 2s - loss: 5.1062e-04 - acc: 1.0000\n",
            "Epoch 18/30\n",
            "8/8 - 2s - loss: 1.2334e-04 - acc: 1.0000\n",
            "Epoch 19/30\n",
            "8/8 - 2s - loss: 1.3777e-04 - acc: 1.0000\n",
            "Epoch 20/30\n",
            "8/8 - 2s - loss: 1.1904e-04 - acc: 1.0000\n",
            "Epoch 21/30\n",
            "8/8 - 2s - loss: 9.7857e-05 - acc: 1.0000\n",
            "Epoch 22/30\n",
            "8/8 - 2s - loss: 1.5441e-05 - acc: 1.0000\n",
            "Epoch 23/30\n",
            "8/8 - 2s - loss: 5.3975e-05 - acc: 1.0000\n",
            "Epoch 24/30\n",
            "8/8 - 2s - loss: 2.8738e-05 - acc: 1.0000\n",
            "Epoch 25/30\n",
            "8/8 - 2s - loss: 2.5553e-06 - acc: 1.0000\n",
            "Epoch 26/30\n",
            "8/8 - 2s - loss: 8.1390e-06 - acc: 1.0000\n",
            "Epoch 27/30\n",
            "8/8 - 2s - loss: 3.7807e-06 - acc: 1.0000\n",
            "Epoch 28/30\n",
            "8/8 - 2s - loss: 5.9885e-06 - acc: 1.0000\n",
            "Epoch 29/30\n",
            "8/8 - 2s - loss: 3.4290e-06 - acc: 1.0000\n",
            "Epoch 30/30\n",
            "8/8 - 2s - loss: 8.6433e-04 - acc: 1.0000\n"
          ],
          "name": "stdout"
        }
      ]
    }
  ]
}